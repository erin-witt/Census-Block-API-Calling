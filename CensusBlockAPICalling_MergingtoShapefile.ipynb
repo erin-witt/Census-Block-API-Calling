{
 "cells": [
  {
   "cell_type": "markdown",
   "metadata": {},
   "source": [
    "## Census Block API Call + Merge to Block Shapefile Code"
   ]
  },
  {
   "cell_type": "markdown",
   "metadata": {},
   "source": [
    "#### I created this Python file to help my research team use the census's API to call data and merge it to a shapefile."
   ]
  },
  {
   "cell_type": "code",
   "execution_count": null,
   "metadata": {},
   "outputs": [],
   "source": [
    "# Import the Python packages that we need to request the data and process it.\n",
    "import requests as rq\n",
    "import pandas as pd"
   ]
  },
  {
   "cell_type": "code",
   "execution_count": null,
   "metadata": {},
   "outputs": [],
   "source": [
    "# Get a census api key from: https://api.census.gov/data/key_signup.html\n",
    "with open('census-api-key.txt') as key:\n",
    "    api_key=key.read().strip()\n",
    "    \n",
    "# For the list of available tables, go to: https://www.census.gov/data/developers/data-sets.html \n",
    "dsource='acs'\n",
    "dname='acs5'"
   ]
  },
  {
   "cell_type": "code",
   "execution_count": null,
   "metadata": {},
   "outputs": [],
   "source": [
    "# This section of code is adapted from online instructions available from Francis Donnelly available at the following URL: https://atcoordinates.info/2019/09/24/examples-of-using-the-census-bureaus-api-with-python/\n",
    "# Call your API Key text file to read your key\"\n",
    "with open('census-api-key.txt') as key:\n",
    "    api_key=key.read().strip()\n",
    "    \n",
    "# For the list of available tables, go to: https://www.census.gov/data/developers/data-sets.html \n",
    "dsource='acs'\n",
    "dname='acs5'\n",
    "\n",
    "col_pop = 'GEO_ID,B01001_001E'\n",
    "cols_race = 'GEO_ID,B03002_001E,B03002_004E,B03002_005E,B03002_006E,B03002_007E,B03002_008E,B03002_009E,B03002_013E,B03002_014E,B03002_015E,B03002_016E,B03002_017E,B03002_018E,B03002_019E'"
   ]
  },
  {
   "cell_type": "code",
   "execution_count": null,
   "metadata": {},
   "outputs": [],
   "source": [
    "# * will retrieve ALL tracts.  If you want only a specific tract, enter the 6 digit number in quotes here\n",
    "blkgrp='*'\n",
    "\n",
    "# This specifies the state.\n",
    "state='36'\n",
    "\n",
    "# This specifies the counties.  Note, there is no space between the numbers.\n",
    "county='005,047,061,081,085'"
   ]
  },
  {
   "cell_type": "code",
   "execution_count": null,
   "metadata": {},
   "outputs": [],
   "source": [
    "#Call the data using the API\n",
    "base_url = f'https://api.census.gov/data/{year}/{dsource}/{dname}'\n",
    "data_url = f'{base_url}?get={cols_pop}&for=block%20group:{blkgrp}&in=state:{state}&in=county:{county}&key={api_key}'\n",
    "response=rq.get(data_url)"
   ]
  },
  {
   "cell_type": "code",
   "execution_count": null,
   "metadata": {},
   "outputs": [],
   "source": [
    "#Convert the data to a data frame\n",
    "data=response.json()\n",
    "print(data)\n",
    "df=pd.DataFrame(data[1:], columns=data[0])\n",
    "\n",
    "path = 'path/to/your/csv.csv'\n",
    "df.to_csv(path, index=False)"
   ]
  },
  {
   "cell_type": "code",
   "execution_count": null,
   "metadata": {},
   "outputs": [],
   "source": [
    "# This section of the code is to merge the blocks we called from the API to the shapefile.\n",
    "censuscsv = 'path/to/the/census/csv.csv'\n",
    "censusshapefile = 'path/to/the/censusblocks/shapefile.shp'\n",
    "\n",
    "shp_df = gpd.read_file(censusshapefile)\n",
    "csv_df = pd.read_csv(censuscsv, dtype={'state': str, 'county': str, 'tract': str})\n",
    "\n",
    "csv_df['GeoID'] = csv_df['state'] + csv_df['county'] + csv_df['tract'] +csv_df['block']\n",
    "\n",
    "shp_df = shp_df.rename(columns={'GEOID': 'GeoID2'})\n",
    "csv_df = csv_df.rename(columns={'GeoID': 'GeoID2'})\n",
    "\n",
    "merged_df = shp_df.merge(csv_df, on='GeoID2')\n",
    "newpath = 'path/where/you/want/your/shapefile/to/output.shp'\n",
    "merged_df.to_file(newpath, index=False)\n"
   ]
  },
  {
   "cell_type": "code",
   "execution_count": null,
   "metadata": {},
   "outputs": [],
   "source": [
    "# Or if you need to do a calculation, sub out your columns here: \n",
    "merged_df['per_transit'] = ((merged_df['B08301_010E'] / merged_df['B08301_001E']) * 100)\n",
    "merged_df.to_file(newpath, index=False)"
   ]
  }
 ],
 "metadata": {
  "language_info": {
   "name": "python"
  }
 },
 "nbformat": 4,
 "nbformat_minor": 2
}
